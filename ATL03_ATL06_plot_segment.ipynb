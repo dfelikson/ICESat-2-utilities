{
 "cells": [
  {
   "cell_type": "markdown",
   "id": "20d09930-461e-4c72-a950-4c02625e8f51",
   "metadata": {},
   "source": [
    "### Imports"
   ]
  },
  {
   "cell_type": "code",
   "execution_count": null,
   "id": "6d9c099d-9cb3-4fd0-a74a-8723d4a82306",
   "metadata": {
    "tags": []
   },
   "outputs": [],
   "source": [
    "import earthaccess\n",
    "\n",
    "import s3fs\n",
    "import h5py\n",
    "\n",
    "import datetime\n",
    "from dateutil.relativedelta import relativedelta\n",
    "\n",
    "import numpy as np\n",
    "from matplotlib import pyplot as plt\n",
    "import cartopy.crs as ccrs"
   ]
  },
  {
   "cell_type": "markdown",
   "id": "4ff595db-8e32-4c7a-bdcc-5067dc49c6ab",
   "metadata": {},
   "source": [
    "### Setup"
   ]
  },
  {
   "cell_type": "code",
   "execution_count": null,
   "id": "1fb0ec86-3cf8-433b-a3af-22fdf0b7accf",
   "metadata": {},
   "outputs": [],
   "source": [
    "atl06_filename = 's3://nsidc-cumulus-prod-protected/ATLAS/ATL06/006/2023/12/27/ATL06_20231227235712_01402203_006_01.h5'\n",
    "atl03_filename = 's3://nsidc-cumulus-prod-protected/ATLAS/ATL03/006/2023/12/27/ATL03_20231227235712_01402203_006_02.h5'\n",
    "gt = 'gt2l'\n"
   ]
  },
  {
   "cell_type": "markdown",
   "id": "c09ac664-4714-4f1d-9e7a-8cc54810cebe",
   "metadata": {},
   "source": [
    "### Earthacess credentials"
   ]
  },
  {
   "cell_type": "code",
   "execution_count": null,
   "id": "8c1e376e-8697-438f-9108-bee236fcb6d4",
   "metadata": {
    "tags": []
   },
   "outputs": [],
   "source": [
    "auth = earthaccess.login()\n",
    "\n",
    "credentials = earthaccess.get_s3_credentials(\"NSIDC\")\n",
    "print(credentials)\n",
    "\n",
    "s3 = s3fs.S3FileSystem(key=credentials['accessKeyId'],\n",
    "                       secret=credentials['secretAccessKey'],\n",
    "                       token=credentials['sessionToken'])\n",
    "\n",
    "# Open files\n",
    "atl06 = h5py.File(s3.open(atl06_filename,'rb'),'r')\n",
    "atl03 = h5py.File(s3.open(atl03_filename,'rb'),'r')\n"
   ]
  },
  {
   "cell_type": "markdown",
   "id": "2e798edd-1424-4176-b083-a01d1cebd595",
   "metadata": {},
   "source": [
    "### Select an ATL06 segment"
   ]
  },
  {
   "cell_type": "code",
   "execution_count": null,
   "id": "ee9b74ad-f36a-47c2-96fa-1c1f731c3db3",
   "metadata": {},
   "outputs": [],
   "source": [
    "# Here, we're selecting the segment with the highest n_fit_photons in the granule\n",
    "\n",
    "n_fit_photons = atl06['/' + gt + '/land_ice_segments/fit_statistics/n_fit_photons'][:]\n",
    "\n",
    "n_fit_photons_sort = sorted(n_fit_photons)\n",
    "\n",
    "segment_id_selected = atl06['/' + gt + '/land_ice_segments/segment_id'][n_fit_photons == n_fit_photons_sort[-1]][0]\n",
    "\n",
    "print('Selected ATL06 segment_id: {:d}'.format(segment_id_selected))\n"
   ]
  },
  {
   "cell_type": "markdown",
   "id": "d147cc32-8339-4d22-8db9-198098c84c05",
   "metadata": {},
   "source": [
    "### Plot data from this segment from ATL03 and ATL06"
   ]
  },
  {
   "cell_type": "code",
   "execution_count": null,
   "id": "1525b77b-af29-4348-9661-4b8c5a999997",
   "metadata": {},
   "outputs": [],
   "source": [
    "%matplotlib inline\n",
    "plt.close()\n",
    "\n",
    "# ATL06 segment_ids\n",
    "segment_id_06 = atl06['/' + gt + '/land_ice_segments/segment_id'][:]\n",
    "\n",
    "# ATL03 segment_ids\n",
    "segment_ph_cnt = atl03['/' + gt + '/geolocation/segment_ph_cnt'][:]\n",
    "\n",
    "h_ph_n = atl03['/' + gt + '/heights/h_ph'].shape[0]\n",
    "segment_id = list(atl03['/' + gt + '/geolocation/segment_id'][:])\n",
    "ph_index_beg = atl03['/' + gt + '/geolocation/ph_index_beg'][:]\n",
    "segment_ph_cnt = atl03['/' + gt + '/geolocation/segment_ph_cnt'][:]\n",
    "\n",
    "segment_id_ph = np.zeros(h_ph_n)\n",
    "for igs in range(0,len(segment_id)):\n",
    "    idx_gs = list(range(ph_index_beg[igs] - 1, \\\n",
    "                        ph_index_beg[igs] - 1 +\\\n",
    "                        segment_ph_cnt[igs]))\n",
    "    segment_id_ph[idx_gs] = segment_id[igs]\n",
    "\n",
    "# Select one segment\n",
    "idx_06 = np.where( segment_id_06 == segment_id_selected )[0]\n",
    "\n",
    "fig = plt.figure(figsize=(16,4))\n",
    "gs = fig.add_gridspec(1, 5)\n",
    "ax = list()\n",
    "ax.append(fig.add_subplot(gs[0, 0], projection=ccrs.NorthPolarStereo(true_scale_latitude=70, central_longitude=-45)))\n",
    "ax.append(fig.add_subplot(gs[0, 2:]))\n",
    "\n",
    "# Plot all ATL06 locations from granule\n",
    "latitude = atl06['/' + gt + '/land_ice_segments/latitude'][:]\n",
    "longitude = atl06['/' + gt + '/land_ice_segments/longitude'][:]\n",
    "ax[0].set_extent([-65, -25, 58, 88], ccrs.PlateCarree())\n",
    "ax[0].plot(longitude, latitude, transform=ccrs.PlateCarree())\n",
    "ax[0].plot(longitude[idx_06], latitude[idx_06], 'rx', transform=ccrs.PlateCarree())\n",
    "ax[0].coastlines()\n",
    "ax[0].gridlines()\n",
    "\n",
    "# Plot ATL03\n",
    "idx_03_ph = np.where( (segment_id_ph == segment_id_selected-1) )[0]\n",
    "dist_ph_along = atl03['/' + gt + '/heights/dist_ph_along'][idx_03_ph]\n",
    "h_ph = atl03['/' + gt + '/heights/h_ph'][idx_03_ph]\n",
    "signal_conf_ph = atl03['/' + gt + '/heights/signal_conf_ph'][idx_03_ph,0]\n",
    "ax[1].scatter(dist_ph_along-20., h_ph, s=2., c=signal_conf_ph, vmin=-1, vmax=5)\n",
    "idx_03_ph = np.where( (segment_id_ph == segment_id_selected) )[0]\n",
    "dist_ph_along = atl03['/' + gt + '/heights/dist_ph_along'][idx_03_ph]\n",
    "h_ph = atl03['/' + gt + '/heights/h_ph'][idx_03_ph]\n",
    "signal_conf_ph = atl03['/' + gt + '/heights/signal_conf_ph'][idx_03_ph,0]\n",
    "c = ax[1].scatter(dist_ph_along, h_ph, s=2., c=signal_conf_ph, vmin=-1, vmax=5)\n",
    "plt.colorbar(c, ax=ax[1], label='signal_ph_conf')\n",
    "\n",
    "# Plot ATL06\n",
    "x_atc = atl06['/' + gt + '/land_ice_segments/ground_track/x_atc'][idx_06]\n",
    "h_mean = atl06['/' + gt + '/land_ice_segments/fit_statistics/h_mean'][idx_06]\n",
    "dh_fit_dx = atl06['/' + gt + '/land_ice_segments/fit_statistics/dh_fit_dx'][idx_06]\n",
    "w_surface_window_final = atl06['/' + gt + '/land_ice_segments/fit_statistics/w_surface_window_final'][idx_06]\n",
    "ax[1].plot(0., h_mean, 'rx')\n",
    "ax[1].plot([-20., 20.], (h_mean+w_surface_window_final/2) + [-20.*dh_fit_dx, +20.*dh_fit_dx], 'k--')\n",
    "ax[1].plot([-20., 20.], (h_mean-w_surface_window_final/2) + [-20.*dh_fit_dx, +20.*dh_fit_dx], 'k--')\n",
    "\n",
    "ax[1].set_xlabel('distance along track [m]')\n",
    "ax[1].set_ylabel('height [m]')\n",
    "ax[1].set_ylim( (h_mean-w_surface_window_final/2-2, h_mean+w_surface_window_final/2+2) )\n",
    "\n",
    "print('{:d} photons in the ATL06 fit'.format(atl06['/' + gt + '/land_ice_segments/fit_statistics/n_fit_photons'][idx_06][0]))\n"
   ]
  },
  {
   "cell_type": "code",
   "execution_count": null,
   "id": "5332058f-a27d-40f1-a5ff-c4da6e1d1f99",
   "metadata": {},
   "outputs": [],
   "source": []
  }
 ],
 "metadata": {
  "kernelspec": {
   "display_name": "Python 3 (ipykernel)",
   "language": "python",
   "name": "python3"
  },
  "language_info": {
   "codemirror_mode": {
    "name": "ipython",
    "version": 3
   },
   "file_extension": ".py",
   "mimetype": "text/x-python",
   "name": "python",
   "nbconvert_exporter": "python",
   "pygments_lexer": "ipython3",
   "version": "3.11.8"
  }
 },
 "nbformat": 4,
 "nbformat_minor": 5
}
